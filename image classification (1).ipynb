{
 "cells": [
  {
   "cell_type": "code",
   "execution_count": 1,
   "id": "f7e229f8-c445-4832-90ca-b39bf2b53174",
   "metadata": {},
   "outputs": [],
   "source": [
    "import tensorflow as tf\n",
    "from tensorflow.keras.preprocessing.image import ImageDataGenerator\n",
    "import matplotlib.pyplot as plt\n",
    "from tensorflow.keras.layers import Conv2D, MaxPool2D, Dense, Flatten, Dropout, Input\n",
    "from tensorflow.keras.models import Sequential"
   ]
  },
  {
   "cell_type": "code",
   "execution_count": 3,
   "id": "d52a0f10-89b0-499e-88bc-69667a8fd767",
   "metadata": {},
   "outputs": [
    {
     "data": {
      "text/plain": [
       "'2.19.0'"
      ]
     },
     "execution_count": 3,
     "metadata": {},
     "output_type": "execute_result"
    }
   ],
   "source": [
    "tf.__version__"
   ]
  },
  {
   "cell_type": "code",
   "execution_count": 4,
   "id": "6284e212-2d93-4e05-bae9-78146298c26d",
   "metadata": {},
   "outputs": [
    {
     "name": "stdout",
     "output_type": "stream",
     "text": [
      "Downloading data from https://www.cs.toronto.edu/~kriz/cifar-10-python.tar.gz\n",
      "\u001b[1m170498071/170498071\u001b[0m \u001b[32m━━━━━━━━━━━━━━━━━━━━\u001b[0m\u001b[37m\u001b[0m \u001b[1m72s\u001b[0m 0us/step\n"
     ]
    }
   ],
   "source": [
    "from keras.datasets import cifar10 \n",
    "(X_train, y_train), (X_test, y_test) = cifar10.load_data()"
   ]
  },
  {
   "cell_type": "code",
   "execution_count": 5,
   "id": "fc9face4-9e8f-48e5-8b02-8169c25153a4",
   "metadata": {},
   "outputs": [
    {
     "name": "stdout",
     "output_type": "stream",
     "text": [
      "X Train: (50000, 32, 32, 3) \n",
      "X Test: (10000, 32, 32, 3) \n",
      "y Train: (50000, 1) \n",
      "y test: (10000, 1)\n"
     ]
    }
   ],
   "source": [
    "print(\"X Train: {} \\nX Test: {} \\ny Train: {} \\ny test: {}\".format(X_train.shape, X_test.shape, y_train.shape, y_test.shape))"
   ]
  },
  {
   "cell_type": "code",
   "execution_count": 6,
   "id": "0f0092d0-55d1-43db-b30f-7bf42962d80c",
   "metadata": {},
   "outputs": [],
   "source": [
    "y_train = tf.keras.utils.to_categorical(y_train, num_classes=10)\n",
    "y_test = tf.keras.utils.to_categorical(y_test, num_classes=10)"
   ]
  },
  {
   "cell_type": "code",
   "execution_count": 7,
   "id": "60c71dc6-6015-43b9-bce2-0d3e425bfe37",
   "metadata": {},
   "outputs": [],
   "source": [
    "train_datagen = ImageDataGenerator(\n",
    "    rescale = 1./255,\n",
    "    shear_range = 0.2,\n",
    "    zoom_range = 0.2,\n",
    "    horizontal_flip = True\n",
    ")"
   ]
  },
  {
   "cell_type": "code",
   "execution_count": 8,
   "id": "6f6951bc-aacf-4d2e-9fea-123ee878c815",
   "metadata": {},
   "outputs": [],
   "source": [
    "train_generator = train_datagen.flow(\n",
    "    X_train, y_train,\n",
    "    batch_size = 32\n",
    ")"
   ]
  },
  {
   "cell_type": "code",
   "execution_count": 9,
   "id": "5756ecf7-f1d9-4dc3-ba5b-1d97a5bd8b57",
   "metadata": {},
   "outputs": [],
   "source": [
    "test_datagen = ImageDataGenerator(\n",
    "    rescale = 1./255\n",
    ")"
   ]
  },
  {
   "cell_type": "code",
   "execution_count": 10,
   "id": "0ec41d1c-d30f-4b01-9f6e-52679f14ed0e",
   "metadata": {},
   "outputs": [],
   "source": [
    "test_generator = test_datagen.flow(\n",
    "    X_test, y_test,\n",
    "    batch_size = 32\n",
    ")"
   ]
  },
  {
   "cell_type": "code",
   "execution_count": 11,
   "id": "712a7b1d-b216-4ab8-9719-f10b01676211",
   "metadata": {},
   "outputs": [],
   "source": [
    "cnn = Sequential()"
   ]
  },
  {
   "cell_type": "code",
   "execution_count": 12,
   "id": "b57dec5b-d082-4c98-9265-9ae22b57b01f",
   "metadata": {},
   "outputs": [],
   "source": [
    "cnn.add(Input(shape=(32, 32, 3)))"
   ]
  },
  {
   "cell_type": "code",
   "execution_count": 13,
   "id": "ead8647f-38b6-43f1-b8c0-2805f81300cb",
   "metadata": {},
   "outputs": [],
   "source": [
    "cnn.add(Conv2D(filters=32, kernel_size=(3,3), strides=(1,1), activation=\"relu\"))"
   ]
  },
  {
   "cell_type": "code",
   "execution_count": 14,
   "id": "1ac57f41-0471-41bb-9170-73394c92e10f",
   "metadata": {},
   "outputs": [],
   "source": [
    "cnn.add(MaxPool2D(pool_size=(2,2), strides=2))"
   ]
  },
  {
   "cell_type": "code",
   "execution_count": 15,
   "id": "690bf3e0-3610-4fef-b655-330aea0f9e70",
   "metadata": {},
   "outputs": [],
   "source": [
    "cnn.add(Conv2D(filters=64, kernel_size=(3,3), strides=(1,1), activation=\"relu\"))"
   ]
  },
  {
   "cell_type": "code",
   "execution_count": 16,
   "id": "bd7dc462-ce74-4f81-b1a9-8d29b93d56c1",
   "metadata": {},
   "outputs": [],
   "source": [
    "cnn.add(MaxPool2D(pool_size=(2,2), strides=2))"
   ]
  },
  {
   "cell_type": "code",
   "execution_count": 17,
   "id": "b467c776-b5ec-483e-9301-ece70bbddb71",
   "metadata": {},
   "outputs": [],
   "source": [
    "cnn.add(Flatten())"
   ]
  },
  {
   "cell_type": "code",
   "execution_count": 18,
   "id": "cea77476-5728-4730-8e55-d682fbe64248",
   "metadata": {},
   "outputs": [],
   "source": [
    "cnn.add(Dense(units=128, activation=\"relu\"))"
   ]
  },
  {
   "cell_type": "code",
   "execution_count": 19,
   "id": "7436e2a6-5a15-4668-8b64-80142fbbbf57",
   "metadata": {},
   "outputs": [],
   "source": [
    "cnn.add(Dense(units=64, activation=\"relu\"))"
   ]
  },
  {
   "cell_type": "code",
   "execution_count": 20,
   "id": "9d4fbc52-ad42-478d-b2ef-afe81449e69e",
   "metadata": {},
   "outputs": [],
   "source": [
    "cnn.add(Dense(units=10, activation=\"softmax\"))"
   ]
  },
  {
   "cell_type": "code",
   "execution_count": 21,
   "id": "583ea6c3-4eb0-406a-a85d-497eb2f07b5c",
   "metadata": {},
   "outputs": [],
   "source": [
    "cnn.compile(optimizer=\"adam\", loss=\"categorical_crossentropy\", metrics=[\"accuracy\", \"precision\", \"recall\", \"f1_score\"])"
   ]
  },
  {
   "cell_type": "code",
   "execution_count": 22,
   "id": "a5559d6d-734c-4bb1-a606-e55122d80878",
   "metadata": {},
   "outputs": [
    {
     "name": "stderr",
     "output_type": "stream",
     "text": [
      "C:\\Users\\PRATYUSH BAJPEYEE\\anaconda3\\Lib\\site-packages\\keras\\src\\trainers\\data_adapters\\py_dataset_adapter.py:121: UserWarning: Your `PyDataset` class should call `super().__init__(**kwargs)` in its constructor. `**kwargs` can include `workers`, `use_multiprocessing`, `max_queue_size`. Do not pass these arguments to `fit()`, as they will be ignored.\n",
      "  self._warn_if_super_not_called()\n"
     ]
    },
    {
     "name": "stdout",
     "output_type": "stream",
     "text": [
      "Epoch 1/25\n",
      "\u001b[1m1563/1563\u001b[0m \u001b[32m━━━━━━━━━━━━━━━━━━━━\u001b[0m\u001b[37m\u001b[0m \u001b[1m324s\u001b[0m 195ms/step - accuracy: 0.3636 - f1_score: 0.3529 - loss: 1.7286 - precision: 0.6194 - recall: 0.1333 - val_accuracy: 0.5541 - val_f1_score: 0.5334 - val_loss: 1.2217 - val_precision: 0.7039 - val_recall: 0.4112\n",
      "Epoch 2/25\n",
      "\u001b[1m1563/1563\u001b[0m \u001b[32m━━━━━━━━━━━━━━━━━━━━\u001b[0m\u001b[37m\u001b[0m \u001b[1m306s\u001b[0m 195ms/step - accuracy: 0.5725 - f1_score: 0.5698 - loss: 1.1964 - precision: 0.7373 - recall: 0.4121 - val_accuracy: 0.6368 - val_f1_score: 0.6320 - val_loss: 1.0561 - val_precision: 0.7696 - val_recall: 0.4966\n",
      "Epoch 3/25\n",
      "\u001b[1m1563/1563\u001b[0m \u001b[32m━━━━━━━━━━━━━━━━━━━━\u001b[0m\u001b[37m\u001b[0m \u001b[1m258s\u001b[0m 165ms/step - accuracy: 0.6262 - f1_score: 0.6238 - loss: 1.0629 - precision: 0.7593 - recall: 0.4913 - val_accuracy: 0.6544 - val_f1_score: 0.6451 - val_loss: 0.9906 - val_precision: 0.7576 - val_recall: 0.5556\n",
      "Epoch 4/25\n",
      "\u001b[1m1563/1563\u001b[0m \u001b[32m━━━━━━━━━━━━━━━━━━━━\u001b[0m\u001b[37m\u001b[0m \u001b[1m246s\u001b[0m 157ms/step - accuracy: 0.6638 - f1_score: 0.6615 - loss: 0.9629 - precision: 0.7827 - recall: 0.5473 - val_accuracy: 0.6822 - val_f1_score: 0.6747 - val_loss: 0.9349 - val_precision: 0.7704 - val_recall: 0.5954\n",
      "Epoch 5/25\n",
      "\u001b[1m1563/1563\u001b[0m \u001b[32m━━━━━━━━━━━━━━━━━━━━\u001b[0m\u001b[37m\u001b[0m \u001b[1m276s\u001b[0m 176ms/step - accuracy: 0.6803 - f1_score: 0.6794 - loss: 0.9099 - precision: 0.7894 - recall: 0.5730 - val_accuracy: 0.6929 - val_f1_score: 0.6863 - val_loss: 0.8970 - val_precision: 0.7950 - val_recall: 0.6048\n",
      "Epoch 6/25\n",
      "\u001b[1m1563/1563\u001b[0m \u001b[32m━━━━━━━━━━━━━━━━━━━━\u001b[0m\u001b[37m\u001b[0m \u001b[1m251s\u001b[0m 161ms/step - accuracy: 0.7005 - f1_score: 0.6996 - loss: 0.8610 - precision: 0.7998 - recall: 0.6015 - val_accuracy: 0.6908 - val_f1_score: 0.6846 - val_loss: 0.9213 - val_precision: 0.7726 - val_recall: 0.6191\n",
      "Epoch 7/25\n",
      "\u001b[1m1563/1563\u001b[0m \u001b[32m━━━━━━━━━━━━━━━━━━━━\u001b[0m\u001b[37m\u001b[0m \u001b[1m238s\u001b[0m 152ms/step - accuracy: 0.7088 - f1_score: 0.7080 - loss: 0.8290 - precision: 0.8076 - recall: 0.6183 - val_accuracy: 0.6954 - val_f1_score: 0.6924 - val_loss: 0.9014 - val_precision: 0.7844 - val_recall: 0.6111\n",
      "Epoch 8/25\n",
      "\u001b[1m1563/1563\u001b[0m \u001b[32m━━━━━━━━━━━━━━━━━━━━\u001b[0m\u001b[37m\u001b[0m \u001b[1m229s\u001b[0m 146ms/step - accuracy: 0.7263 - f1_score: 0.7251 - loss: 0.7868 - precision: 0.8173 - recall: 0.6401 - val_accuracy: 0.7164 - val_f1_score: 0.7129 - val_loss: 0.8302 - val_precision: 0.7942 - val_recall: 0.6486\n",
      "Epoch 9/25\n",
      "\u001b[1m1563/1563\u001b[0m \u001b[32m━━━━━━━━━━━━━━━━━━━━\u001b[0m\u001b[37m\u001b[0m \u001b[1m257s\u001b[0m 164ms/step - accuracy: 0.7287 - f1_score: 0.7278 - loss: 0.7677 - precision: 0.8191 - recall: 0.6483 - val_accuracy: 0.7178 - val_f1_score: 0.7135 - val_loss: 0.8381 - val_precision: 0.7895 - val_recall: 0.6530\n",
      "Epoch 10/25\n",
      "\u001b[1m1563/1563\u001b[0m \u001b[32m━━━━━━━━━━━━━━━━━━━━\u001b[0m\u001b[37m\u001b[0m \u001b[1m246s\u001b[0m 157ms/step - accuracy: 0.7426 - f1_score: 0.7414 - loss: 0.7360 - precision: 0.8233 - recall: 0.6632 - val_accuracy: 0.7210 - val_f1_score: 0.7138 - val_loss: 0.8212 - val_precision: 0.8006 - val_recall: 0.6496\n",
      "Epoch 11/25\n",
      "\u001b[1m1563/1563\u001b[0m \u001b[32m━━━━━━━━━━━━━━━━━━━━\u001b[0m\u001b[37m\u001b[0m \u001b[1m320s\u001b[0m 205ms/step - accuracy: 0.7467 - f1_score: 0.7462 - loss: 0.7209 - precision: 0.8274 - recall: 0.6711 - val_accuracy: 0.7198 - val_f1_score: 0.7158 - val_loss: 0.8187 - val_precision: 0.7960 - val_recall: 0.6552\n",
      "Epoch 12/25\n",
      "\u001b[1m1563/1563\u001b[0m \u001b[32m━━━━━━━━━━━━━━━━━━━━\u001b[0m\u001b[37m\u001b[0m \u001b[1m257s\u001b[0m 164ms/step - accuracy: 0.7484 - f1_score: 0.7480 - loss: 0.7096 - precision: 0.8282 - recall: 0.6782 - val_accuracy: 0.7136 - val_f1_score: 0.7095 - val_loss: 0.8457 - val_precision: 0.7950 - val_recall: 0.6368\n",
      "Epoch 13/25\n",
      "\u001b[1m1563/1563\u001b[0m \u001b[32m━━━━━━━━━━━━━━━━━━━━\u001b[0m\u001b[37m\u001b[0m \u001b[1m242s\u001b[0m 155ms/step - accuracy: 0.7613 - f1_score: 0.7603 - loss: 0.6815 - precision: 0.8354 - recall: 0.6920 - val_accuracy: 0.7319 - val_f1_score: 0.7276 - val_loss: 0.8009 - val_precision: 0.8024 - val_recall: 0.6664\n",
      "Epoch 14/25\n",
      "\u001b[1m1563/1563\u001b[0m \u001b[32m━━━━━━━━━━━━━━━━━━━━\u001b[0m\u001b[37m\u001b[0m \u001b[1m229s\u001b[0m 146ms/step - accuracy: 0.7679 - f1_score: 0.7675 - loss: 0.6647 - precision: 0.8399 - recall: 0.7027 - val_accuracy: 0.7142 - val_f1_score: 0.7103 - val_loss: 0.8592 - val_precision: 0.7810 - val_recall: 0.6618\n",
      "Epoch 15/25\n",
      "\u001b[1m1563/1563\u001b[0m \u001b[32m━━━━━━━━━━━━━━━━━━━━\u001b[0m\u001b[37m\u001b[0m \u001b[1m261s\u001b[0m 167ms/step - accuracy: 0.7745 - f1_score: 0.7738 - loss: 0.6477 - precision: 0.8402 - recall: 0.7110 - val_accuracy: 0.7361 - val_f1_score: 0.7320 - val_loss: 0.8053 - val_precision: 0.7954 - val_recall: 0.6909\n",
      "Epoch 16/25\n",
      "\u001b[1m1563/1563\u001b[0m \u001b[32m━━━━━━━━━━━━━━━━━━━━\u001b[0m\u001b[37m\u001b[0m \u001b[1m253s\u001b[0m 161ms/step - accuracy: 0.7792 - f1_score: 0.7779 - loss: 0.6331 - precision: 0.8458 - recall: 0.7177 - val_accuracy: 0.7377 - val_f1_score: 0.7344 - val_loss: 0.7864 - val_precision: 0.8069 - val_recall: 0.6785\n",
      "Epoch 17/25\n",
      "\u001b[1m1563/1563\u001b[0m \u001b[32m━━━━━━━━━━━━━━━━━━━━\u001b[0m\u001b[37m\u001b[0m \u001b[1m255s\u001b[0m 163ms/step - accuracy: 0.7820 - f1_score: 0.7820 - loss: 0.6248 - precision: 0.8477 - recall: 0.7220 - val_accuracy: 0.7369 - val_f1_score: 0.7320 - val_loss: 0.7995 - val_precision: 0.7964 - val_recall: 0.6864\n",
      "Epoch 18/25\n",
      "\u001b[1m1563/1563\u001b[0m \u001b[32m━━━━━━━━━━━━━━━━━━━━\u001b[0m\u001b[37m\u001b[0m \u001b[1m229s\u001b[0m 146ms/step - accuracy: 0.7918 - f1_score: 0.7916 - loss: 0.5999 - precision: 0.8534 - recall: 0.7356 - val_accuracy: 0.7341 - val_f1_score: 0.7299 - val_loss: 0.8234 - val_precision: 0.7883 - val_recall: 0.6871\n",
      "Epoch 19/25\n",
      "\u001b[1m1563/1563\u001b[0m \u001b[32m━━━━━━━━━━━━━━━━━━━━\u001b[0m\u001b[37m\u001b[0m \u001b[1m218s\u001b[0m 139ms/step - accuracy: 0.7893 - f1_score: 0.7894 - loss: 0.5964 - precision: 0.8511 - recall: 0.7333 - val_accuracy: 0.7202 - val_f1_score: 0.7113 - val_loss: 0.8673 - val_precision: 0.7778 - val_recall: 0.6748\n",
      "Epoch 20/25\n",
      "\u001b[1m1563/1563\u001b[0m \u001b[32m━━━━━━━━━━━━━━━━━━━━\u001b[0m\u001b[37m\u001b[0m \u001b[1m219s\u001b[0m 140ms/step - accuracy: 0.7920 - f1_score: 0.7913 - loss: 0.5957 - precision: 0.8545 - recall: 0.7374 - val_accuracy: 0.7408 - val_f1_score: 0.7364 - val_loss: 0.8203 - val_precision: 0.7921 - val_recall: 0.6997\n",
      "Epoch 21/25\n",
      "\u001b[1m1563/1563\u001b[0m \u001b[32m━━━━━━━━━━━━━━━━━━━━\u001b[0m\u001b[37m\u001b[0m \u001b[1m209s\u001b[0m 134ms/step - accuracy: 0.8009 - f1_score: 0.8004 - loss: 0.5721 - precision: 0.8565 - recall: 0.7491 - val_accuracy: 0.7281 - val_f1_score: 0.7232 - val_loss: 0.8450 - val_precision: 0.7828 - val_recall: 0.6835\n",
      "Epoch 22/25\n",
      "\u001b[1m1563/1563\u001b[0m \u001b[32m━━━━━━━━━━━━━━━━━━━━\u001b[0m\u001b[37m\u001b[0m \u001b[1m221s\u001b[0m 141ms/step - accuracy: 0.8027 - f1_score: 0.8022 - loss: 0.5613 - precision: 0.8577 - recall: 0.7508 - val_accuracy: 0.7323 - val_f1_score: 0.7268 - val_loss: 0.8398 - val_precision: 0.7868 - val_recall: 0.6888\n",
      "Epoch 23/25\n",
      "\u001b[1m1563/1563\u001b[0m \u001b[32m━━━━━━━━━━━━━━━━━━━━\u001b[0m\u001b[37m\u001b[0m \u001b[1m225s\u001b[0m 144ms/step - accuracy: 0.8066 - f1_score: 0.8065 - loss: 0.5491 - precision: 0.8612 - recall: 0.7570 - val_accuracy: 0.7418 - val_f1_score: 0.7385 - val_loss: 0.8105 - val_precision: 0.7918 - val_recall: 0.7025\n",
      "Epoch 24/25\n",
      "\u001b[1m1563/1563\u001b[0m \u001b[32m━━━━━━━━━━━━━━━━━━━━\u001b[0m\u001b[37m\u001b[0m \u001b[1m2978s\u001b[0m 2s/step - accuracy: 0.8050 - f1_score: 0.8047 - loss: 0.5532 - precision: 0.8613 - recall: 0.7586 - val_accuracy: 0.7460 - val_f1_score: 0.7438 - val_loss: 0.8031 - val_precision: 0.7977 - val_recall: 0.7071\n",
      "Epoch 25/25\n",
      "\u001b[1m1563/1563\u001b[0m \u001b[32m━━━━━━━━━━━━━━━━━━━━\u001b[0m\u001b[37m\u001b[0m \u001b[1m156s\u001b[0m 100ms/step - accuracy: 0.8097 - f1_score: 0.8093 - loss: 0.5441 - precision: 0.8627 - recall: 0.7632 - val_accuracy: 0.7486 - val_f1_score: 0.7471 - val_loss: 0.7904 - val_precision: 0.7988 - val_recall: 0.7071\n"
     ]
    }
   ],
   "source": [
    "history = cnn.fit(\n",
    "    train_generator,\n",
    "    epochs=25,\n",
    "    validation_data=test_generator\n",
    ")"
   ]
  },
  {
   "cell_type": "code",
   "execution_count": 23,
   "id": "4cbb8651-2125-499f-860e-24b9c5c4a051",
   "metadata": {},
   "outputs": [
    {
     "data": {
      "image/png": "[encoded data removed]",
      "text/plain": [
       "<Figure size 640x480 with 1 Axes>"
      ]
     },
     "metadata": {},
     "output_type": "display_data"
    }
   ],
   "source": [
    "plt.plot(history.history['accuracy'])\n",
    "plt.plot(history.history['val_accuracy'])\n",
    "plt.title('Model accuracy')\n",
    "plt.ylabel('Accuracy')\n",
    "plt.xlabel('Epoch')\n",
    "plt.legend(['Train', 'Validation'], loc='upper left')\n",
    "plt.show()"
   ]
  }
 ],
 "metadata": {
  "kernelspec": {
   "display_name": "Python 3 (ipykernel)",
   "language": "python",
   "name": "python3"
  },
  "language_info": {
   "codemirror_mode": {
    "name": "ipython",
    "version": 3
   },
   "file_extension": ".py",
   "mimetype": "text/x-python",
   "name": "python",
   "nbconvert_exporter": "python",
   "pygments_lexer": "ipython3",
   "version": "3.12.7"
  }
 },
 "nbformat": 4,
 "nbformat_minor": 5
}
